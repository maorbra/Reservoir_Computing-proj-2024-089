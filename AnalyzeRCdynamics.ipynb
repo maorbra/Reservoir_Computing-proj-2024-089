{
 "cells": [
  {
   "cell_type": "markdown",
   "id": "35c735ba-fa8b-4e17-ace9-01d7d1679336",
   "metadata": {},
   "source": [
    "# Analyze Reservoir Dynamics"
   ]
  },
  {
   "cell_type": "code",
   "execution_count": null,
   "id": "4a6f4f50-4a4c-4af3-89b3-4ebb51e61a0d",
   "metadata": {
    "tags": []
   },
   "outputs": [],
   "source": [
    "import os\n",
    "from matplotlib import pyplot as plt\n",
    "import numpy as np\n",
    "from preprocess_digits import RECORDINGS_DIR, save_data, load_data\n",
    "from train import idx_train_test\n",
    "import pickle\n",
    "\n",
    "from reservoir import ExperimentalReservoir"
   ]
  },
  {
   "cell_type": "code",
   "execution_count": null,
   "id": "38817f80-20d4-4e12-9228-b92084dd4fbd",
   "metadata": {
    "tags": []
   },
   "outputs": [],
   "source": [
    "plt.rc(\"font\", family=\"Arial\")\n",
    "plt.rc(\"mathtext\", fontset=\"cm\")"
   ]
  },
  {
   "cell_type": "code",
   "execution_count": null,
   "id": "d8d80d00-09f4-4198-a6a5-3b39b789c660",
   "metadata": {
    "tags": []
   },
   "outputs": [],
   "source": [
    "def plot_results(dump, twod=False):    \n",
    "    x = dump[\"x\"]\n",
    "    y = dump[\"y\"]\n",
    "    state = dump[\"states\"]\n",
    "    i = np.argmin(dump[\"trials\"][\"nmse\"])\n",
    "    idx_train = dump[\"trials\"][\"idx_train\"][i]\n",
    "    idx_test = dump[\"trials\"][\"idx_test\"][i]\n",
    "\n",
    "    x_train = np.concatenate([x[_] for _ in idx_train])\n",
    "    x_test = np.concatenate([x[_] for _ in idx_test])\n",
    "    y_train = np.concatenate([y[_] for _ in idx_train])\n",
    "    y_test = np.concatenate([y[_] for _ in idx_test])\n",
    "    state_train = np.concatenate([state[_] for _ in idx_train])\n",
    "    state_test = np.concatenate([state[_] for _ in idx_test])\n",
    "    uin = dump[\"Win\"].dot(x_test.T).T\n",
    "    readout = dump[\"trials\"][\"Wout\"][i].T.dot(state_test.T).T + dump[\"trials\"][\"bias\"][i]\n",
    "    nmse = dump[\"trials\"][\"nmse\"][i]\n",
    "    nrmse = dump[\"trials\"][\"nrmse\"][i]\n",
    "    idx_test = dump[\"trials\"][\"idx_test\"]\n",
    "    ymax = np.max(y_test)\n",
    "    ymin = np.min(y_test)\n",
    "\n",
    "    if not twod:\n",
    "        fig = plt.figure(figsize=(7, 3))\n",
    "        ax = fig.subplots()\n",
    "        ax.plot(x_test.T.ravel(), label=\"Input Signal\")\n",
    "        ax.plot(y_test.T.ravel(), label=\"Target\")\n",
    "        ax.plot(readout.T.ravel(), '--', label=\"Prediction\")\n",
    "        ax.set_xlabel(\"Timestep\")\n",
    "        ax.set_ylabel(\"x\")\n",
    "        ax.legend(loc=\"lower right\")\n",
    "        \n",
    "        ax.text(0.05, 0.1, \"NMSE={:.3f}\\nNRMSE={:.3f}\".format(nmse, nrmse),\n",
    "                backgroundcolor=\"w\", transform=ax.transAxes)\n",
    "    else:\n",
    "        prediction = np.full_like(readout, -1)\n",
    "        idx = np.argmax(readout, axis=1)\n",
    "        for i, _ in enumerate(idx):\n",
    "            prediction[i, _] = 1\n",
    "        fig = plt.figure(figsize=(10, 3))\n",
    "        ax = fig.subplots(1, 4, sharex=True, gridspec_kw=dict(wspace=0.3))\n",
    "        ax[0].pcolormesh(x_test.T, linewidth=0)\n",
    "        ax[1].pcolormesh(y_test.T, linewidth=0)\n",
    "        ax[2].pcolormesh(readout.T, linewidth=0)\n",
    "        ax[3].pcolormesh(prediction.T, linewidth=0)\n",
    "        for _ in ax:\n",
    "            _.set_xlabel(\"Timestep\")\n",
    "        wer = dump[\"trials\"][\"wer\"][0]\n",
    "        ax[3].text(\n",
    "            0.05, 0.98,\n",
    "            \"NMSE={:.3f}\\nWER={:.1f}%\".format(nmse, wer * 100),\n",
    "            va='top',\n",
    "            color=\"w\", transform=ax[3].transAxes\n",
    "        )\n",
    "        np.max(dump[\"trials\"][\"rsquare\"])\n",
    "    return fig, ax"
   ]
  },
  {
   "cell_type": "code",
   "execution_count": null,
   "id": "014f9541-4b54-4687-bfc8-7ae9be42f423",
   "metadata": {
    "tags": []
   },
   "outputs": [],
   "source": [
    "with open(\"data/hyperopt_sin_square_488kHz_simulation_0.09624870918374559.pickle\", \"rb\") as f:\n",
    "    dump = pickle.load(f)\n",
    "    \n",
    "print(\"G = {:.2f}\".format(dump[\"hypers\"][\"optical_power\"] / 5.4 * 10))\n",
    "print(\"Phi0 = {:.2f} pi\".format(dump[\"hypers\"][\"phi0\"] / np.pi))\n",
    "print(\"tau_D = {:.2f} T\".format(dump[\"hypers\"][\"fir_length\"] / float(dump[\"hypers\"][\"fir_rate\"][:-3]) / (50 / 488e-3)))\n",
    "print(\"ridge = {}\".format(dump[\"hypers\"][\"ridge\"]))\n",
    "\n",
    "fig, ax = plot_results(dump)"
   ]
  },
  {
   "cell_type": "code",
   "execution_count": null,
   "id": "3577f1c0-a14f-43c3-8ff7-766ba54eb5ff",
   "metadata": {
    "tags": []
   },
   "outputs": [],
   "source": [
    "with open(\"data/hyperopt_narma10_0.561071269333272.pickle\", \"rb\") as f:\n",
    "    dump = pickle.load(f)\n",
    "\n",
    "print(\"G = {:.2f}\".format(dump[\"hypers\"][\"optical_power\"] / 5.4 * 10))\n",
    "print(\"Phi0 = {:.2f} pi\".format(dump[\"hypers\"][\"phi0\"] / np.pi))\n",
    "print(\"tau_D = {:.2f} T\".format(dump[\"hypers\"][\"fir_length\"] / float(dump[\"hypers\"][\"fir_rate\"][:-3]) / (50 / 488e-3)))\n",
    "print(\"ridge = {}\".format(dump[\"hypers\"][\"ridge\"]))\n",
    "\n",
    "fig, ax = plot_results(dump)\n",
    "ax.set_xlim(0, 200)\n",
    "\n",
    "# fig.savefig(\"../../Figures/narma10_test.pdf\", dpi=300)"
   ]
  },
  {
   "cell_type": "code",
   "execution_count": null,
   "id": "eba9479c-8e0a-4ed9-82b1-2a1b53c671e3",
   "metadata": {
    "tags": []
   },
   "outputs": [],
   "source": [
    "with open(\"data/hyperopt_japanese_vowels_0.27112363447897525.pickle\", \"rb\") as f:\n",
    "    dump = pickle.load(f)\n",
    "\n",
    "fig, ax = plot_results(dump, True)\n",
    "label_position = (0.01, 0)\n",
    "ax[0].set_title(\"a    Input\", position=label_position, ha=\"left\")\n",
    "ax[1].set_title(\"b    Target\", position=label_position, ha=\"left\")\n",
    "ax[2].set_title(\"c    Readout\", position=label_position, ha=\"left\")\n",
    "ax[3].set_title(\"d    Prediction\", position=label_position, ha=\"left\")\n",
    "\n",
    "ax[0].set_ylabel(\"Cepstrum Coefficient\")\n",
    "\n",
    "print(\"G = {:.2f}\".format(dump[\"hypers\"][\"optical_power\"] / 5.4 * 10))\n",
    "print(\"Phi0 = {:.2f} pi\".format(dump[\"hypers\"][\"phi0\"] / np.pi))\n",
    "print(\"tau_D = {:.2f} T\".format(dump[\"hypers\"][\"fir_length\"] / float(dump[\"hypers\"][\"fir_rate\"][:-3]) / (50 / 488e-3)))\n",
    "print(\"ridge = {}\".format(dump[\"hypers\"][\"ridge\"]))\n",
    "\n",
    "nfeatures = dump[\"x\"][0].shape[1]\n",
    "ax[0].set_yticks(np.arange(0.5, nfeatures + 0.5), labels=np.arange(nfeatures) + 1)\n",
    "nspeakers = dump[\"y\"][0].shape[1]\n",
    "for _ in ax[1:]:\n",
    "    _.set_ylabel(\"Speaker #\")\n",
    "    _.set_yticks(np.arange(0.5, nspeakers + 0.5), labels=np.arange(nspeakers) + 1)\n",
    "fig.savefig(\"../../Figures/japanese_vowels_test.pdf\", dpi=300, bbox_inches=\"tight\")"
   ]
  }
 ],
 "metadata": {
  "kernelspec": {
   "display_name": "Python 3 (ipykernel)",
   "language": "python",
   "name": "python3"
  },
  "language_info": {
   "codemirror_mode": {
    "name": "ipython",
    "version": 3
   },
   "file_extension": ".py",
   "mimetype": "text/x-python",
   "name": "python",
   "nbconvert_exporter": "python",
   "pygments_lexer": "ipython3",
   "version": "3.9.16"
  }
 },
 "nbformat": 4,
 "nbformat_minor": 5
}
